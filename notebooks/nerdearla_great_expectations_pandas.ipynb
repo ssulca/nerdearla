{
 "cells": [
  {
   "cell_type": "markdown",
   "id": "64a230a2",
   "metadata": {
    "slideshow": {
     "slide_type": "slide"
    }
   },
   "source": [
    "# Great Expectations\n",
    "\n",
    "Great Expectations ayuda a los equipos de datos a eliminar el pipeline debt, \n",
    "mediante data testing, documentation, y profiling.\n",
    "\n",
    "\n",
    "<p style=\"text-align: center;\">\n",
    "</p>\n",
    "\n",
    "## Validacion de datos con Great Expectations\n",
    "\n",
    "### Que nos permite hacer Great Expectations?\n",
    "Con Great Expectations podemos \n",
    "\n",
    "* Crear expectations humanreadable, dejando que la libreria se encargue de la implementacion. "
   ]
  },
  {
   "cell_type": "markdown",
   "id": "499750d4",
   "metadata": {
    "slideshow": {
     "slide_type": "slide"
    }
   },
   "source": [
    "## Conceptos Clave\n",
    "\n",
    "### Expectations\n",
    "Expectations son assertions para datos, son declarativas, flexibles y extensibles.\n",
    "### Suite\n",
    "Conjunto de Expectation.\n",
    "### Data validation\n",
    "Great Expectations permite verificar datos en forma de batch, validando con nuestra suite of Expectations.\n",
    "### Data Docs\n",
    "Great Expectations genera Expectations documentacion en forma clara y sencilla"
   ]
  },
  {
   "cell_type": "code",
   "execution_count": 1,
   "id": "9385c8b9",
   "metadata": {
    "slideshow": {
     "slide_type": "skip"
    }
   },
   "outputs": [
    {
     "name": "stdout",
     "output_type": "stream",
     "text": [
      "2021-10-22T17:27:51-0300 - INFO - Great Expectations logging enabled at 20 level by JupyterUX module.\n"
     ]
    },
    {
     "name": "stderr",
     "output_type": "stream",
     "text": [
      "/home/naranja/.cache/pypoetry/virtualenvs/nerdearla-8F2Rd6j4-py3.9/lib/python3.9/site-packages/great_expectations/jupyter_ux/__init__.py:18: FutureWarning: Passing a negative integer is deprecated in version 1.0 and will not be supported in future version. Instead, use None to not limit the column width.\n",
      "  pd.set_option(\"display.max_colwidth\", -1)\n"
     ]
    }
   ],
   "source": [
    "from datetime import datetime, timezone\n",
    "import pandas as pd\n",
    "import great_expectations as ge\n",
    "import great_expectations.jupyter_ux\n",
    "from great_expectations.exceptions import DataContextError\n",
    "from great_expectations.data_context.types.base import DataContextConfig\n",
    "from great_expectations.data_context.types.base import DatasourceConfig\n",
    "from great_expectations.data_context.types.base import FilesystemStoreBackendDefaults\n",
    "from great_expectations.data_context import BaseDataContext\n",
    "from pathlib import Path\n",
    "from os.path import abspath"
   ]
  },
  {
   "cell_type": "markdown",
   "id": "a0312e79",
   "metadata": {
    "slideshow": {
     "slide_type": "slide"
    }
   },
   "source": [
    "##  Configurando Great Expectations\n",
    "\n",
    "Hay distintas posibilidades para configurar el Data Contexts\n",
    "* Usando CLI (data profiling)\n",
    "* Usando un archivo YAML \n",
    "* En memoria \n",
    "\n",
    "The `DataContextConfig` setea los parametros para construir el DataContext. \n",
    "Donde\n",
    "* `DatasourceConfig` define que tipo de motor vamos a usar para trabajar con los datos (pandas, spark, database connectos)"
   ]
  },
  {
   "cell_type": "code",
   "execution_count": 2,
   "id": "65fdf6b8-a542-40e6-8d2f-eb89affdf848",
   "metadata": {},
   "outputs": [
    {
     "data": {
      "text/plain": [
       "'/home/naranja/Develop/diplo/nerdearla'"
      ]
     },
     "execution_count": 2,
     "metadata": {},
     "output_type": "execute_result"
    }
   ],
   "source": [
    "project_path = Path(abspath('')).parent.absolute().as_posix()\n",
    "project_path"
   ]
  },
  {
   "cell_type": "code",
   "execution_count": 3,
   "id": "2056c02f",
   "metadata": {
    "slideshow": {
     "slide_type": "slide"
    }
   },
   "outputs": [],
   "source": [
    "datasource = \"my_pandas_datasource\"\n",
    "context = BaseDataContext(\n",
    "                project_config=DataContextConfig(\n",
    "                    config_version=2,\n",
    "                    plugins_directory=f\"{project_path}/plugins\",\n",
    "                    datasources={\n",
    "                        datasource: DatasourceConfig(\n",
    "                            class_name=\"PandasDatasource\",\n",
    "                            data_asset_type = {\n",
    "                                \"module_name\": \"custom_expectation\",\n",
    "                                \"class_name\": \"MyCustomPandasDataset\"\n",
    "                            },\n",
    "                        )\n",
    "                    },\n",
    "                    validation_operators={\n",
    "                        \"action_list_operator\": {\n",
    "                            \"class_name\": \"ActionListValidationOperator\",\n",
    "                            \"action_list\": [\n",
    "                                {\n",
    "                                    \"name\": \"store_validation_result\",\n",
    "                                    \"action\": {\"class_name\": \"StoreValidationResultAction\"},\n",
    "                                },\n",
    "                                {\n",
    "                                    \"name\": \"update_data_docs\",\n",
    "                                    \"action\": {\"class_name\": \"UpdateDataDocsAction\"},\n",
    "                                },\n",
    "                            ],\n",
    "                        }\n",
    "                    },\n",
    "                    store_backend_defaults=FilesystemStoreBackendDefaults(\n",
    "                        root_directory=project_path\n",
    "                    )\n",
    "                )\n",
    "            )"
   ]
  },
  {
   "cell_type": "markdown",
   "id": "d62744ad",
   "metadata": {
    "slideshow": {
     "slide_type": "slide"
    }
   },
   "source": [
    "## Creando una Suite\n",
    "\n",
    "Las suites estan identificadas por nombre.\n",
    "\n",
    "De no existir se creara una con el nombre indicado."
   ]
  },
  {
   "cell_type": "code",
   "execution_count": 4,
   "id": "2ffe8bf0",
   "metadata": {
    "slideshow": {
     "slide_type": "fragment"
    }
   },
   "outputs": [],
   "source": [
    "expectation_suite_name = 'nerdearla'\n",
    "\n",
    "try:\n",
    "    suite = context.get_expectation_suite(expectation_suite_name)\n",
    "except DataContextError:\n",
    "    suite = context.create_expectation_suite(expectation_suite_name)"
   ]
  },
  {
   "cell_type": "markdown",
   "id": "0b905247",
   "metadata": {
    "slideshow": {
     "slide_type": "slide"
    }
   },
   "source": [
    "## Cargando datos\n",
    "Great Expectations puede crear expectations sin datos, pero es mejor usar un ejemplo.\n",
    "\n",
    "En `batch_kwargs`:\n",
    " * `datasource`: El tipo de datasource definido en el contexto\n",
    " * `dataset`: El dataset en memoria\n",
    " * `expectation_suite_names`: Metadata"
   ]
  },
  {
   "cell_type": "code",
   "execution_count": 5,
   "id": "32b46afc",
   "metadata": {
    "slideshow": {
     "slide_type": "fragment"
    }
   },
   "outputs": [
    {
     "data": {
      "text/html": [
       "<div>\n",
       "<style scoped>\n",
       "    .dataframe tbody tr th:only-of-type {\n",
       "        vertical-align: middle;\n",
       "    }\n",
       "\n",
       "    .dataframe tbody tr th {\n",
       "        vertical-align: top;\n",
       "    }\n",
       "\n",
       "    .dataframe thead th {\n",
       "        text-align: right;\n",
       "    }\n",
       "</style>\n",
       "<table border=\"1\" class=\"dataframe\">\n",
       "  <thead>\n",
       "    <tr style=\"text-align: right;\">\n",
       "      <th></th>\n",
       "      <th>dni</th>\n",
       "      <th>date</th>\n",
       "      <th>sexo</th>\n",
       "      <th>estado_civil</th>\n",
       "      <th>fecha_nacimiento</th>\n",
       "      <th>asset_level</th>\n",
       "      <th>education_level</th>\n",
       "    </tr>\n",
       "  </thead>\n",
       "  <tbody>\n",
       "    <tr>\n",
       "      <th>0</th>\n",
       "      <td>37511093</td>\n",
       "      <td>20210625</td>\n",
       "      <td>F</td>\n",
       "      <td>Casado</td>\n",
       "      <td>1955-01-09 00:00:00</td>\n",
       "      <td>{\"name\":\"Sin especificar\",\"id\":\"0\"}</td>\n",
       "      <td>{\"name\":\"Terciario\",\"id\":\"3\"}</td>\n",
       "    </tr>\n",
       "    <tr>\n",
       "      <th>1</th>\n",
       "      <td>94977718</td>\n",
       "      <td>20210625</td>\n",
       "      <td>M</td>\n",
       "      <td>Casado</td>\n",
       "      <td>1951-04-23 00:00:00</td>\n",
       "      <td>{\"name\":\"Sin especificar\",\"id\":\"0\"}</td>\n",
       "      <td>{\"name\":\"Primario\",\"id\":\"1\"}</td>\n",
       "    </tr>\n",
       "    <tr>\n",
       "      <th>2</th>\n",
       "      <td>8627709</td>\n",
       "      <td>20210625</td>\n",
       "      <td>F</td>\n",
       "      <td>Soltero</td>\n",
       "      <td>1973-04-05 00:00:00</td>\n",
       "      <td>{\"name\":\"Sin especificar\",\"id\":\"0\"}</td>\n",
       "      <td>{\"name\":\"Primario\",\"id\":\"1\"}</td>\n",
       "    </tr>\n",
       "    <tr>\n",
       "      <th>3</th>\n",
       "      <td>37007709</td>\n",
       "      <td>20210625</td>\n",
       "      <td>M</td>\n",
       "      <td>Soltero</td>\n",
       "      <td>1988-09-23 00:00:00</td>\n",
       "      <td>{\"name\":\"Sin especificar\",\"id\":\"0\"}</td>\n",
       "      <td>{\"name\":\"Primario\",\"id\":\"1\"}</td>\n",
       "    </tr>\n",
       "    <tr>\n",
       "      <th>4</th>\n",
       "      <td>28704754</td>\n",
       "      <td>20210625</td>\n",
       "      <td>F</td>\n",
       "      <td>Soltero</td>\n",
       "      <td>1983-03-17 00:00:00</td>\n",
       "      <td>{\"name\":\"Sin especificar\",\"id\":\"0\"}</td>\n",
       "      <td>{\"name\":\"Terciario\",\"id\":\"3\"}</td>\n",
       "    </tr>\n",
       "  </tbody>\n",
       "</table>\n",
       "</div>"
      ],
      "text/plain": [
       "        dni      date sexo estado_civil     fecha_nacimiento  \\\n",
       "0  37511093  20210625  F    Casado       1955-01-09 00:00:00   \n",
       "1  94977718  20210625  M    Casado       1951-04-23 00:00:00   \n",
       "2  8627709   20210625  F    Soltero      1973-04-05 00:00:00   \n",
       "3  37007709  20210625  M    Soltero      1988-09-23 00:00:00   \n",
       "4  28704754  20210625  F    Soltero      1983-03-17 00:00:00   \n",
       "\n",
       "                           asset_level                education_level  \n",
       "0  {\"name\":\"Sin especificar\",\"id\":\"0\"}  {\"name\":\"Terciario\",\"id\":\"3\"}  \n",
       "1  {\"name\":\"Sin especificar\",\"id\":\"0\"}  {\"name\":\"Primario\",\"id\":\"1\"}   \n",
       "2  {\"name\":\"Sin especificar\",\"id\":\"0\"}  {\"name\":\"Primario\",\"id\":\"1\"}   \n",
       "3  {\"name\":\"Sin especificar\",\"id\":\"0\"}  {\"name\":\"Primario\",\"id\":\"1\"}   \n",
       "4  {\"name\":\"Sin especificar\",\"id\":\"0\"}  {\"name\":\"Terciario\",\"id\":\"3\"}  "
      ]
     },
     "execution_count": 5,
     "metadata": {},
     "output_type": "execute_result"
    }
   ],
   "source": [
    "df = pd.read_csv(\n",
    "    f\"{project_path}/data/nx_nerdearla_clean.csv\",\n",
    "    dtype={ \"date\":str,\n",
    "           \"fecha_nacimiento\":str,\n",
    "           \"dni\":str}\n",
    "    )\n",
    "\n",
    "batch_kwargs = {\n",
    "    \"datasource\": \"my_pandas_datasource\",\n",
    "    \"dataset\": df,\n",
    "    \"expectation_suite_names\": expectation_suite_name\n",
    "}\n",
    "\n",
    "batch = context.get_batch(batch_kwargs, expectation_suite_name)\n",
    "\n",
    "batch.head(5)"
   ]
  },
  {
   "cell_type": "markdown",
   "id": "81f3d15d",
   "metadata": {
    "slideshow": {
     "slide_type": "slide"
    }
   },
   "source": [
    "## Crando Expectations (IUPI 🥳)\n",
    "Una vez que tenemos datos cargados en memoria, podemos crear Expectations.\n",
    "Hay diferentes tipos de Expectation\n",
    "* Table shape level\n",
    "* Missing values, unique values, and types\n",
    "* Sets and ranges\n",
    "* String matching\n",
    "* Datetime and JSON parsing\n",
    "* Others (Aggregate functions, Multi-column, Distributional functions, FileDataAsset)\n",
    "\n",
    "[Glossary of Expectations](https://docs.greatexpectations.io/docs/reference/glossary_of_expectations)"
   ]
  },
  {
   "cell_type": "code",
   "execution_count": 6,
   "id": "28387e5a",
   "metadata": {
    "slideshow": {
     "slide_type": "subslide"
    }
   },
   "outputs": [
    {
     "data": {
      "text/plain": [
       "{\n",
       "  \"exception_info\": {\n",
       "    \"raised_exception\": false,\n",
       "    \"exception_traceback\": null,\n",
       "    \"exception_message\": null\n",
       "  },\n",
       "  \"result\": {\n",
       "    \"observed_value\": [\n",
       "      \"dni\",\n",
       "      \"date\",\n",
       "      \"sexo\",\n",
       "      \"estado_civil\",\n",
       "      \"fecha_nacimiento\",\n",
       "      \"asset_level\",\n",
       "      \"education_level\"\n",
       "    ]\n",
       "  },\n",
       "  \"meta\": {},\n",
       "  \"success\": true\n",
       "}"
      ]
     },
     "execution_count": 6,
     "metadata": {},
     "output_type": "execute_result"
    }
   ],
   "source": [
    "batch.expect_table_columns_to_match_ordered_list(\n",
    "    column_list=[\n",
    "        'dni',\n",
    "        'date',\n",
    "        'sexo',\n",
    "        'estado_civil',\n",
    "        'fecha_nacimiento',\n",
    "        'asset_level',\n",
    "        'education_level'\n",
    "    ])"
   ]
  },
  {
   "cell_type": "code",
   "execution_count": 7,
   "id": "bc1775ed",
   "metadata": {},
   "outputs": [
    {
     "data": {
      "text/plain": [
       "{\n",
       "  \"exception_info\": {\n",
       "    \"raised_exception\": false,\n",
       "    \"exception_traceback\": null,\n",
       "    \"exception_message\": null\n",
       "  },\n",
       "  \"result\": {\n",
       "    \"element_count\": 100,\n",
       "    \"missing_count\": 0,\n",
       "    \"missing_percent\": 0.0,\n",
       "    \"unexpected_count\": 0,\n",
       "    \"unexpected_percent\": 0.0,\n",
       "    \"unexpected_percent_total\": 0.0,\n",
       "    \"unexpected_percent_nonmissing\": 0.0,\n",
       "    \"partial_unexpected_list\": []\n",
       "  },\n",
       "  \"meta\": {},\n",
       "  \"success\": true\n",
       "}"
      ]
     },
     "execution_count": 7,
     "metadata": {},
     "output_type": "execute_result"
    }
   ],
   "source": [
    "batch.expect_column_values_to_be_in_type_list (\n",
    "    column='estado_civil',\n",
    "    type_list= [\n",
    "            \"CHAR\",\n",
    "            \"NVARCHAR\",\n",
    "            \"STRING\",\n",
    "            \"StringType\",\n",
    "            \"TEXT\",\n",
    "            \"VARCHAR\",\n",
    "            \"str\",\n",
    "            \"string\"\n",
    "        ]\n",
    "    )"
   ]
  },
  {
   "cell_type": "code",
   "execution_count": 8,
   "id": "af80682c",
   "metadata": {},
   "outputs": [
    {
     "data": {
      "text/plain": [
       "{\n",
       "  \"exception_info\": {\n",
       "    \"raised_exception\": false,\n",
       "    \"exception_traceback\": null,\n",
       "    \"exception_message\": null\n",
       "  },\n",
       "  \"result\": {\n",
       "    \"element_count\": 100,\n",
       "    \"missing_count\": 1,\n",
       "    \"missing_percent\": 1.0,\n",
       "    \"unexpected_count\": 0,\n",
       "    \"unexpected_percent\": 0.0,\n",
       "    \"unexpected_percent_total\": 0.0,\n",
       "    \"unexpected_percent_nonmissing\": 0.0,\n",
       "    \"partial_unexpected_list\": []\n",
       "  },\n",
       "  \"meta\": {},\n",
       "  \"success\": true\n",
       "}"
      ]
     },
     "execution_count": 8,
     "metadata": {},
     "output_type": "execute_result"
    }
   ],
   "source": [
    "batch.expect_column_values_to_be_unique(column='dni')"
   ]
  },
  {
   "cell_type": "code",
   "execution_count": 9,
   "id": "fd33056d",
   "metadata": {},
   "outputs": [
    {
     "data": {
      "text/plain": [
       "{\n",
       "  \"exception_info\": {\n",
       "    \"raised_exception\": false,\n",
       "    \"exception_traceback\": null,\n",
       "    \"exception_message\": null\n",
       "  },\n",
       "  \"result\": {\n",
       "    \"element_count\": 100,\n",
       "    \"missing_count\": 1,\n",
       "    \"missing_percent\": 1.0,\n",
       "    \"unexpected_count\": 0,\n",
       "    \"unexpected_percent\": 0.0,\n",
       "    \"unexpected_percent_total\": 0.0,\n",
       "    \"unexpected_percent_nonmissing\": 0.0,\n",
       "    \"partial_unexpected_list\": []\n",
       "  },\n",
       "  \"meta\": {},\n",
       "  \"success\": true\n",
       "}"
      ]
     },
     "execution_count": 9,
     "metadata": {},
     "output_type": "execute_result"
    }
   ],
   "source": [
    "batch.expect_column_values_to_match_regex (\n",
    "    column='dni',\n",
    "    regex = r'^[\\d]{1,3}\\.?[\\d]{3,3}\\.?[\\d]{3,3}$'\n",
    "    )"
   ]
  },
  {
   "cell_type": "code",
   "execution_count": 10,
   "id": "b062d03e",
   "metadata": {},
   "outputs": [
    {
     "data": {
      "text/plain": [
       "{\n",
       "  \"exception_info\": {\n",
       "    \"raised_exception\": false,\n",
       "    \"exception_traceback\": null,\n",
       "    \"exception_message\": null\n",
       "  },\n",
       "  \"result\": {\n",
       "    \"element_count\": 100,\n",
       "    \"missing_count\": 0,\n",
       "    \"missing_percent\": 0.0,\n",
       "    \"unexpected_count\": 0,\n",
       "    \"unexpected_percent\": 0.0,\n",
       "    \"unexpected_percent_total\": 0.0,\n",
       "    \"unexpected_percent_nonmissing\": 0.0,\n",
       "    \"partial_unexpected_list\": []\n",
       "  },\n",
       "  \"meta\": {},\n",
       "  \"success\": true\n",
       "}"
      ]
     },
     "execution_count": 10,
     "metadata": {},
     "output_type": "execute_result"
    }
   ],
   "source": [
    "batch.expect_column_values_to_be_dateutil_parseable(column='date')"
   ]
  },
  {
   "cell_type": "code",
   "execution_count": 11,
   "id": "02bd0892",
   "metadata": {},
   "outputs": [
    {
     "data": {
      "text/plain": [
       "{\n",
       "  \"exception_info\": {\n",
       "    \"raised_exception\": false,\n",
       "    \"exception_traceback\": null,\n",
       "    \"exception_message\": null\n",
       "  },\n",
       "  \"result\": {\n",
       "    \"element_count\": 100,\n",
       "    \"missing_count\": 0,\n",
       "    \"missing_percent\": 0.0,\n",
       "    \"unexpected_count\": 0,\n",
       "    \"unexpected_percent\": 0.0,\n",
       "    \"unexpected_percent_total\": 0.0,\n",
       "    \"unexpected_percent_nonmissing\": 0.0,\n",
       "    \"partial_unexpected_list\": []\n",
       "  },\n",
       "  \"meta\": {},\n",
       "  \"success\": true\n",
       "}"
      ]
     },
     "execution_count": 11,
     "metadata": {},
     "output_type": "execute_result"
    }
   ],
   "source": [
    "batch.expect_column_values_to_match_strftime_format (\n",
    "    column='fecha_nacimiento',\n",
    "    strftime_format = '%Y-%m-%d %H:%M:%S'\n",
    "    )"
   ]
  },
  {
   "cell_type": "code",
   "execution_count": 12,
   "id": "7e7ead53",
   "metadata": {},
   "outputs": [
    {
     "data": {
      "text/plain": [
       "{\n",
       "  \"exception_info\": {\n",
       "    \"raised_exception\": false,\n",
       "    \"exception_traceback\": null,\n",
       "    \"exception_message\": null\n",
       "  },\n",
       "  \"result\": {\n",
       "    \"element_count\": 100,\n",
       "    \"missing_count\": 0,\n",
       "    \"missing_percent\": 0.0,\n",
       "    \"unexpected_count\": 0,\n",
       "    \"unexpected_percent\": 0.0,\n",
       "    \"unexpected_percent_total\": 0.0,\n",
       "    \"unexpected_percent_nonmissing\": 0.0,\n",
       "    \"partial_unexpected_list\": []\n",
       "  },\n",
       "  \"meta\": {},\n",
       "  \"success\": true\n",
       "}"
      ]
     },
     "execution_count": 12,
     "metadata": {},
     "output_type": "execute_result"
    }
   ],
   "source": [
    "batch.expect_column_values_to_be_in_set(\n",
    "    column ='sexo',\n",
    "    value_set = ['M','F'],\n",
    "    mostly = 0.9\n",
    "    )"
   ]
  },
  {
   "cell_type": "code",
   "execution_count": 13,
   "id": "3ca12958",
   "metadata": {},
   "outputs": [
    {
     "data": {
      "text/plain": [
       "{\n",
       "  \"exception_info\": {\n",
       "    \"raised_exception\": false,\n",
       "    \"exception_traceback\": null,\n",
       "    \"exception_message\": null\n",
       "  },\n",
       "  \"result\": {\n",
       "    \"element_count\": 55,\n",
       "    \"missing_count\": 0,\n",
       "    \"missing_percent\": 0.0,\n",
       "    \"unexpected_count\": 0,\n",
       "    \"unexpected_percent\": 0.0,\n",
       "    \"unexpected_percent_total\": 0.0,\n",
       "    \"unexpected_percent_nonmissing\": 0.0,\n",
       "    \"partial_unexpected_list\": []\n",
       "  },\n",
       "  \"meta\": {},\n",
       "  \"success\": true\n",
       "}"
      ]
     },
     "execution_count": 13,
     "metadata": {},
     "output_type": "execute_result"
    }
   ],
   "source": [
    "batch.expect_column_values_to_be_in_set(\n",
    "    column = 'estado_civil',\n",
    "    value_set = ['Casado','Soltero','Divorciado','Viudo','Separado de Hecho','Novio'],\n",
    "    row_condition = 'sexo == \"F\"',\n",
    "    condition_parser = 'pandas'\n",
    ")"
   ]
  },
  {
   "cell_type": "code",
   "execution_count": 14,
   "id": "d4c2b09a",
   "metadata": {},
   "outputs": [
    {
     "data": {
      "text/plain": [
       "{\n",
       "  \"exception_info\": {\n",
       "    \"raised_exception\": false,\n",
       "    \"exception_traceback\": null,\n",
       "    \"exception_message\": null\n",
       "  },\n",
       "  \"result\": {\n",
       "    \"element_count\": 100,\n",
       "    \"missing_count\": 0,\n",
       "    \"missing_percent\": 0.0,\n",
       "    \"unexpected_count\": 0,\n",
       "    \"unexpected_percent\": 0.0,\n",
       "    \"unexpected_percent_total\": 0.0,\n",
       "    \"unexpected_percent_nonmissing\": 0.0,\n",
       "    \"partial_unexpected_list\": []\n",
       "  },\n",
       "  \"meta\": {},\n",
       "  \"success\": true\n",
       "}"
      ]
     },
     "execution_count": 14,
     "metadata": {},
     "output_type": "execute_result"
    }
   ],
   "source": [
    "batch.expect_column_values_to_be_json_parseable('education_level')"
   ]
  },
  {
   "cell_type": "code",
   "execution_count": 15,
   "id": "71a3f15b",
   "metadata": {},
   "outputs": [
    {
     "data": {
      "text/plain": [
       "{\n",
       "  \"exception_info\": {\n",
       "    \"raised_exception\": false,\n",
       "    \"exception_traceback\": null,\n",
       "    \"exception_message\": null\n",
       "  },\n",
       "  \"result\": {\n",
       "    \"element_count\": 100,\n",
       "    \"missing_count\": 0,\n",
       "    \"missing_percent\": 0.0,\n",
       "    \"unexpected_count\": 39,\n",
       "    \"unexpected_percent\": 39.0,\n",
       "    \"unexpected_percent_total\": 39.0,\n",
       "    \"unexpected_percent_nonmissing\": 39.0,\n",
       "    \"partial_unexpected_list\": [\n",
       "      \"{\\\"code\\\":\\\"0\\\"}\",\n",
       "      \"{\\\"code\\\":\\\"0\\\"}\",\n",
       "      \"{\\\"code\\\":\\\"0\\\"}\",\n",
       "      \"{\\\"code\\\":\\\"0\\\"}\",\n",
       "      \"{\\\"code\\\":\\\"0\\\"}\",\n",
       "      \"{\\\"code\\\":\\\"0\\\"}\",\n",
       "      \"{\\\"code\\\":\\\"0\\\"}\",\n",
       "      \"{\\\"code\\\":\\\"0\\\"}\",\n",
       "      \"{\\\"code\\\":\\\"0\\\"}\",\n",
       "      \"{\\\"code\\\":\\\"0\\\"}\",\n",
       "      \"{\\\"code\\\":\\\"0\\\"}\",\n",
       "      \"{\\\"code\\\":\\\"0\\\"}\",\n",
       "      \"{\\\"code\\\":\\\"0\\\"}\",\n",
       "      \"{\\\"code\\\":\\\"0\\\"}\",\n",
       "      \"{\\\"code\\\":\\\"0\\\"}\",\n",
       "      \"{\\\"code\\\":\\\"0\\\"}\",\n",
       "      \"{\\\"code\\\":\\\"0\\\"}\",\n",
       "      \"{\\\"code\\\":\\\"0\\\"}\",\n",
       "      \"{\\\"code\\\":\\\"0\\\"}\",\n",
       "      \"{\\\"code\\\":\\\"0\\\"}\"\n",
       "    ]\n",
       "  },\n",
       "  \"meta\": {},\n",
       "  \"success\": true\n",
       "}"
      ]
     },
     "execution_count": 15,
     "metadata": {},
     "output_type": "execute_result"
    }
   ],
   "source": [
    "batch.expect_column_values_to_match_json_schema (\n",
    "    column = 'asset_level',\n",
    "    json_schema = {\n",
    "        \"$schema\" : \"http://json-schema.org/draft-04/schema#\",\n",
    "        \"type\" :\"object\",\n",
    "        \"properties\": {\n",
    "            \"name\": {\n",
    "            \"type\": \"string\"\n",
    "            },\n",
    "            \"id\": {\n",
    "            \"type\": \"string\"\n",
    "            }\n",
    "        },\n",
    "        \"required\": [\n",
    "            \"name\",\n",
    "            \"id\"\n",
    "        ]\n",
    "    },\n",
    "    mostly = 0.5\n",
    ")"
   ]
  },
  {
   "cell_type": "code",
   "execution_count": 16,
   "id": "de75d52a",
   "metadata": {},
   "outputs": [
    {
     "data": {
      "text/plain": [
       "{\n",
       "  \"exception_info\": {\n",
       "    \"raised_exception\": false,\n",
       "    \"exception_traceback\": null,\n",
       "    \"exception_message\": null\n",
       "  },\n",
       "  \"result\": {\n",
       "    \"element_count\": 100,\n",
       "    \"missing_count\": 0,\n",
       "    \"missing_percent\": 0.0,\n",
       "    \"unexpected_count\": 0,\n",
       "    \"unexpected_percent\": 0.0,\n",
       "    \"unexpected_percent_total\": 0.0,\n",
       "    \"unexpected_percent_nonmissing\": 0.0,\n",
       "    \"partial_unexpected_list\": []\n",
       "  },\n",
       "  \"meta\": {},\n",
       "  \"success\": true\n",
       "}"
      ]
     },
     "execution_count": 16,
     "metadata": {},
     "output_type": "execute_result"
    }
   ],
   "source": [
    "batch.expect_column_values_to_calculate_age (\n",
    "    column = 'fecha_nacimiento',\n",
    "    min_age = 18,\n",
    "    date_format = '%Y-%m-%d %H:%M:%S'\n",
    ")"
   ]
  },
  {
   "cell_type": "code",
   "execution_count": 17,
   "id": "835d74d7",
   "metadata": {},
   "outputs": [
    {
     "name": "stdout",
     "output_type": "stream",
     "text": [
      "2021-10-22T17:27:52-0300 - INFO - \t11 expectation(s) included in expectation_suite. result_format settings filtered.\n"
     ]
    },
    {
     "data": {
      "text/plain": [
       "{\n",
       "  \"expectations\": [\n",
       "    {\n",
       "      \"ge_cloud_id\": null,\n",
       "      \"meta\": {},\n",
       "      \"expectation_type\": \"expect_table_columns_to_match_ordered_list\",\n",
       "      \"kwargs\": {\n",
       "        \"column_list\": [\n",
       "          \"dni\",\n",
       "          \"date\",\n",
       "          \"sexo\",\n",
       "          \"estado_civil\",\n",
       "          \"fecha_nacimiento\",\n",
       "          \"asset_level\",\n",
       "          \"education_level\"\n",
       "        ]\n",
       "      }\n",
       "    },\n",
       "    {\n",
       "      \"ge_cloud_id\": null,\n",
       "      \"meta\": {},\n",
       "      \"expectation_type\": \"expect_column_values_to_be_in_type_list\",\n",
       "      \"kwargs\": {\n",
       "        \"column\": \"estado_civil\",\n",
       "        \"type_list\": [\n",
       "          \"CHAR\",\n",
       "          \"NVARCHAR\",\n",
       "          \"STRING\",\n",
       "          \"StringType\",\n",
       "          \"TEXT\",\n",
       "          \"VARCHAR\",\n",
       "          \"str\",\n",
       "          \"string\"\n",
       "        ]\n",
       "      }\n",
       "    },\n",
       "    {\n",
       "      \"ge_cloud_id\": null,\n",
       "      \"meta\": {},\n",
       "      \"expectation_type\": \"expect_column_values_to_be_unique\",\n",
       "      \"kwargs\": {\n",
       "        \"column\": \"dni\"\n",
       "      }\n",
       "    },\n",
       "    {\n",
       "      \"ge_cloud_id\": null,\n",
       "      \"meta\": {},\n",
       "      \"expectation_type\": \"expect_column_values_to_match_regex\",\n",
       "      \"kwargs\": {\n",
       "        \"column\": \"dni\",\n",
       "        \"regex\": \"^[\\\\d]{1,3}\\\\.?[\\\\d]{3,3}\\\\.?[\\\\d]{3,3}$\"\n",
       "      }\n",
       "    },\n",
       "    {\n",
       "      \"ge_cloud_id\": null,\n",
       "      \"meta\": {},\n",
       "      \"expectation_type\": \"expect_column_values_to_be_dateutil_parseable\",\n",
       "      \"kwargs\": {\n",
       "        \"column\": \"date\"\n",
       "      }\n",
       "    },\n",
       "    {\n",
       "      \"ge_cloud_id\": null,\n",
       "      \"meta\": {},\n",
       "      \"expectation_type\": \"expect_column_values_to_match_strftime_format\",\n",
       "      \"kwargs\": {\n",
       "        \"column\": \"fecha_nacimiento\",\n",
       "        \"strftime_format\": \"%Y-%m-%d %H:%M:%S\"\n",
       "      }\n",
       "    },\n",
       "    {\n",
       "      \"ge_cloud_id\": null,\n",
       "      \"meta\": {},\n",
       "      \"expectation_type\": \"expect_column_values_to_be_in_set\",\n",
       "      \"kwargs\": {\n",
       "        \"column\": \"sexo\",\n",
       "        \"value_set\": [\n",
       "          \"M\",\n",
       "          \"F\"\n",
       "        ],\n",
       "        \"mostly\": 0.9\n",
       "      }\n",
       "    },\n",
       "    {\n",
       "      \"ge_cloud_id\": null,\n",
       "      \"meta\": {},\n",
       "      \"expectation_type\": \"expect_column_values_to_be_in_set\",\n",
       "      \"kwargs\": {\n",
       "        \"column\": \"estado_civil\",\n",
       "        \"value_set\": [\n",
       "          \"Casado\",\n",
       "          \"Soltero\",\n",
       "          \"Divorciado\",\n",
       "          \"Viudo\",\n",
       "          \"Separado de Hecho\",\n",
       "          \"Novio\"\n",
       "        ],\n",
       "        \"row_condition\": \"sexo == \\\"F\\\"\",\n",
       "        \"condition_parser\": \"pandas\"\n",
       "      }\n",
       "    },\n",
       "    {\n",
       "      \"ge_cloud_id\": null,\n",
       "      \"meta\": {},\n",
       "      \"expectation_type\": \"expect_column_values_to_be_json_parseable\",\n",
       "      \"kwargs\": {\n",
       "        \"column\": \"education_level\"\n",
       "      }\n",
       "    },\n",
       "    {\n",
       "      \"ge_cloud_id\": null,\n",
       "      \"meta\": {},\n",
       "      \"expectation_type\": \"expect_column_values_to_match_json_schema\",\n",
       "      \"kwargs\": {\n",
       "        \"column\": \"asset_level\",\n",
       "        \"json_schema\": {\n",
       "          \"$schema\": \"http://json-schema.org/draft-04/schema#\",\n",
       "          \"type\": \"object\",\n",
       "          \"properties\": {\n",
       "            \"name\": {\n",
       "              \"type\": \"string\"\n",
       "            },\n",
       "            \"id\": {\n",
       "              \"type\": \"string\"\n",
       "            }\n",
       "          },\n",
       "          \"required\": [\n",
       "            \"name\",\n",
       "            \"id\"\n",
       "          ]\n",
       "        },\n",
       "        \"mostly\": 0.5\n",
       "      }\n",
       "    },\n",
       "    {\n",
       "      \"ge_cloud_id\": null,\n",
       "      \"meta\": {},\n",
       "      \"expectation_type\": \"expect_column_values_to_calculate_age\",\n",
       "      \"kwargs\": {\n",
       "        \"column\": \"fecha_nacimiento\",\n",
       "        \"min_age\": 18,\n",
       "        \"date_format\": \"%Y-%m-%d %H:%M:%S\"\n",
       "      }\n",
       "    }\n",
       "  ],\n",
       "  \"expectation_suite_name\": \"nerdearla\",\n",
       "  \"meta\": {\n",
       "    \"great_expectations_version\": \"0.13.39\"\n",
       "  },\n",
       "  \"ge_cloud_id\": null,\n",
       "  \"data_asset_type\": \"MyCustomPandasDataset\"\n",
       "}"
      ]
     },
     "execution_count": 17,
     "metadata": {},
     "output_type": "execute_result"
    }
   ],
   "source": [
    "suite = batch.get_expectation_suite()\n",
    "suite"
   ]
  },
  {
   "cell_type": "markdown",
   "id": "8b1c6b87",
   "metadata": {
    "slideshow": {
     "slide_type": "slide"
    }
   },
   "source": [
    "### Guaramos la Suite"
   ]
  },
  {
   "cell_type": "code",
   "execution_count": 18,
   "id": "1f972a73",
   "metadata": {
    "slideshow": {
     "slide_type": "fragment"
    }
   },
   "outputs": [
    {
     "data": {
      "text/plain": [
       "'/home/naranja/Develop/diplo/nerdearla/expectations/nerdearla.json'"
      ]
     },
     "execution_count": 18,
     "metadata": {},
     "output_type": "execute_result"
    }
   ],
   "source": [
    "context.save_expectation_suite(suite, expectation_suite_name)"
   ]
  }
 ],
 "metadata": {
  "interpreter": {
   "hash": "916dbcbb3f70747c44a77c7bcd40155683ae19c65e1c03b4aa3499c5328201f1"
  },
  "kernelspec": {
   "display_name": "Python 3 (ipykernel)",
   "language": "python",
   "name": "python3"
  },
  "language_info": {
   "codemirror_mode": {
    "name": "ipython",
    "version": 3
   },
   "file_extension": ".py",
   "mimetype": "text/x-python",
   "name": "python",
   "nbconvert_exporter": "python",
   "pygments_lexer": "ipython3",
   "version": "3.9.7"
  }
 },
 "nbformat": 4,
 "nbformat_minor": 5
}

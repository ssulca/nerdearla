{
 "cells": [
  {
   "cell_type": "markdown",
   "metadata": {},
   "source": [
    "# Data Validations\n"
   ]
  },
  {
   "cell_type": "code",
   "execution_count": 1,
   "metadata": {},
   "outputs": [
    {
     "name": "stdout",
     "output_type": "stream",
     "text": [
      "2021-10-22T17:34:33-0300 - INFO - Great Expectations logging enabled at 20 level by JupyterUX module.\n"
     ]
    },
    {
     "name": "stderr",
     "output_type": "stream",
     "text": [
      "/home/naranja/.cache/pypoetry/virtualenvs/nerdearla-8F2Rd6j4-py3.9/lib/python3.9/site-packages/great_expectations/jupyter_ux/__init__.py:18: FutureWarning: Passing a negative integer is deprecated in version 1.0 and will not be supported in future version. Instead, use None to not limit the column width.\n",
      "  pd.set_option(\"display.max_colwidth\", -1)\n"
     ]
    }
   ],
   "source": [
    "from datetime import datetime, timezone\n",
    "import pandas as pd\n",
    "import great_expectations as ge\n",
    "import great_expectations.jupyter_ux\n",
    "from great_expectations.exceptions import DataContextError\n",
    "from great_expectations.data_context.types.base import DataContextConfig\n",
    "from great_expectations.data_context.types.base import DatasourceConfig\n",
    "from great_expectations.data_context.types.base import FilesystemStoreBackendDefaults\n",
    "from great_expectations.data_context import BaseDataContext\n",
    "from pathlib import Path\n",
    "from os.path import abspath"
   ]
  },
  {
   "cell_type": "code",
   "execution_count": 2,
   "metadata": {},
   "outputs": [
    {
     "data": {
      "text/plain": [
       "'/home/naranja/Develop/diplo/nerdearla'"
      ]
     },
     "execution_count": 2,
     "metadata": {},
     "output_type": "execute_result"
    }
   ],
   "source": [
    "project_path = Path(abspath('')).parent.absolute().as_posix()\n",
    "project_path"
   ]
  },
  {
   "cell_type": "markdown",
   "metadata": {},
   "source": [
    "## 1. Recreamos el DataContext"
   ]
  },
  {
   "cell_type": "code",
   "execution_count": 3,
   "metadata": {},
   "outputs": [],
   "source": [
    "datasource = \"my_pandas_datasource\"\n",
    "context = BaseDataContext(\n",
    "                project_config=DataContextConfig(\n",
    "                    config_version=2,\n",
    "                    plugins_directory=f\"{project_path}/plugins\",\n",
    "                    datasources={\n",
    "                        datasource: DatasourceConfig(\n",
    "                            class_name=\"PandasDatasource\",\n",
    "                            data_asset_type = {\n",
    "                                \"module_name\": \"custom_expectation\",\n",
    "                                \"class_name\": \"MyCustomPandasDataset\"\n",
    "                            },\n",
    "                            batch_kwargs_generators={}\n",
    "                        )\n",
    "                    },\n",
    "                    validation_operators={\n",
    "                        \"action_list_operator\": {\n",
    "                            \"class_name\": \"ActionListValidationOperator\",\n",
    "                            \"action_list\": [\n",
    "                                {\n",
    "                                    \"name\": \"store_validation_result\",\n",
    "                                    \"action\": {\"class_name\": \"StoreValidationResultAction\"},\n",
    "                                },\n",
    "                                {\n",
    "                                    \"name\": \"update_data_docs\",\n",
    "                                    \"action\": {\"class_name\": \"UpdateDataDocsAction\"},\n",
    "                                },\n",
    "                            ],\n",
    "                        }\n",
    "                    },\n",
    "                    store_backend_defaults=FilesystemStoreBackendDefaults(\n",
    "                        root_directory=project_path\n",
    "                    )\n",
    "                )\n",
    "            )"
   ]
  },
  {
   "cell_type": "markdown",
   "metadata": {},
   "source": [
    "## 2. Elegimos nuestra Expectation Suite"
   ]
  },
  {
   "cell_type": "code",
   "execution_count": 4,
   "metadata": {},
   "outputs": [
    {
     "data": {
      "text/plain": [
       "['nerdearla']"
      ]
     },
     "execution_count": 4,
     "metadata": {},
     "output_type": "execute_result"
    }
   ],
   "source": [
    "context.list_expectation_suite_names()"
   ]
  },
  {
   "cell_type": "code",
   "execution_count": 5,
   "metadata": {},
   "outputs": [],
   "source": [
    "expectation_suite_name = \"nerdearla\""
   ]
  },
  {
   "cell_type": "markdown",
   "metadata": {},
   "source": [
    "## 3. Cargamos la data con a la cual le queremos aplicar validaciones"
   ]
  },
  {
   "cell_type": "code",
   "execution_count": 6,
   "metadata": {},
   "outputs": [
    {
     "data": {
      "text/html": [
       "<div>\n",
       "<style scoped>\n",
       "    .dataframe tbody tr th:only-of-type {\n",
       "        vertical-align: middle;\n",
       "    }\n",
       "\n",
       "    .dataframe tbody tr th {\n",
       "        vertical-align: top;\n",
       "    }\n",
       "\n",
       "    .dataframe thead th {\n",
       "        text-align: right;\n",
       "    }\n",
       "</style>\n",
       "<table border=\"1\" class=\"dataframe\">\n",
       "  <thead>\n",
       "    <tr style=\"text-align: right;\">\n",
       "      <th></th>\n",
       "      <th>dni</th>\n",
       "      <th>date</th>\n",
       "      <th>sexo</th>\n",
       "      <th>estado_civil</th>\n",
       "      <th>fecha_nacimiento</th>\n",
       "      <th>asset_level</th>\n",
       "      <th>education_level</th>\n",
       "    </tr>\n",
       "  </thead>\n",
       "  <tbody>\n",
       "    <tr>\n",
       "      <th>0</th>\n",
       "      <td>37511093</td>\n",
       "      <td>20210625</td>\n",
       "      <td>F</td>\n",
       "      <td>Casado</td>\n",
       "      <td>1955-01-09 00:00:00</td>\n",
       "      <td>{\"name\":\"Sin especificar\",id:0}</td>\n",
       "      <td>{\"name\":\"Terciario\",id:3}</td>\n",
       "    </tr>\n",
       "    <tr>\n",
       "      <th>1</th>\n",
       "      <td>94977718</td>\n",
       "      <td>20210625</td>\n",
       "      <td>M</td>\n",
       "      <td>Casado</td>\n",
       "      <td>1951-04-23 00:00:00</td>\n",
       "      <td>{\"name\":\"Sin especificar\",\"id\":\"0\"}</td>\n",
       "      <td>{\"name\":\"Primario\",\"id\":\"1\"}</td>\n",
       "    </tr>\n",
       "    <tr>\n",
       "      <th>2</th>\n",
       "      <td>8627709</td>\n",
       "      <td>20210625</td>\n",
       "      <td>F</td>\n",
       "      <td>Soltero</td>\n",
       "      <td>1973-04-05 00:00:00</td>\n",
       "      <td>{\"name\":\"Sin especificar\",\"id\":\"0\"}</td>\n",
       "      <td>{\"name\":\"Primario\",\"id\":\"1\"}</td>\n",
       "    </tr>\n",
       "    <tr>\n",
       "      <th>3</th>\n",
       "      <td>37007709</td>\n",
       "      <td>20210625</td>\n",
       "      <td>M</td>\n",
       "      <td>Soltero</td>\n",
       "      <td>1988-09-23 00:00:00</td>\n",
       "      <td>{\"name\":\"Sin especificar\",\"id\":\"0\"}</td>\n",
       "      <td>{\"name\":\"Primario\",\"id\":\"1\"}</td>\n",
       "    </tr>\n",
       "    <tr>\n",
       "      <th>4</th>\n",
       "      <td>28704754</td>\n",
       "      <td>20210625</td>\n",
       "      <td>F</td>\n",
       "      <td>Soltero</td>\n",
       "      <td>1983-03-17 00:00:00</td>\n",
       "      <td>{\"name\":\"Sin especificar\",\"id\":\"0\"}</td>\n",
       "      <td>{\"name\":\"Terciario\",\"id\":\"3\"}</td>\n",
       "    </tr>\n",
       "  </tbody>\n",
       "</table>\n",
       "</div>"
      ],
      "text/plain": [
       "        dni      date sexo estado_civil     fecha_nacimiento  \\\n",
       "0  37511093  20210625  F    Casado       1955-01-09 00:00:00   \n",
       "1  94977718  20210625  M    Casado       1951-04-23 00:00:00   \n",
       "2  8627709   20210625  F    Soltero      1973-04-05 00:00:00   \n",
       "3  37007709  20210625  M    Soltero      1988-09-23 00:00:00   \n",
       "4  28704754  20210625  F    Soltero      1983-03-17 00:00:00   \n",
       "\n",
       "                           asset_level                education_level  \n",
       "0  {\"name\":\"Sin especificar\",id:0}      {\"name\":\"Terciario\",id:3}      \n",
       "1  {\"name\":\"Sin especificar\",\"id\":\"0\"}  {\"name\":\"Primario\",\"id\":\"1\"}   \n",
       "2  {\"name\":\"Sin especificar\",\"id\":\"0\"}  {\"name\":\"Primario\",\"id\":\"1\"}   \n",
       "3  {\"name\":\"Sin especificar\",\"id\":\"0\"}  {\"name\":\"Primario\",\"id\":\"1\"}   \n",
       "4  {\"name\":\"Sin especificar\",\"id\":\"0\"}  {\"name\":\"Terciario\",\"id\":\"3\"}  "
      ]
     },
     "execution_count": 6,
     "metadata": {},
     "output_type": "execute_result"
    }
   ],
   "source": [
    "df = pd.read_csv(\n",
    "    f\"{project_path}/data/nx_nerdearla.csv\",\n",
    "    dtype={\n",
    "        \"date\":str,\n",
    "        \"fecha_nacimiento\":str,\n",
    "        \"dni\":str}\n",
    ")\n",
    "\n",
    "batch_kwargs = {\n",
    "    \"datasource\": \"my_pandas_datasource\",\n",
    "    \"dataset\": df,\n",
    "    \"expectation_suite_names\": expectation_suite_name\n",
    "}\n",
    "\n",
    "\n",
    "batch = context.get_batch(batch_kwargs, expectation_suite_name)\n",
    "batch.head(5)"
   ]
  },
  {
   "cell_type": "markdown",
   "metadata": {},
   "source": [
    "## 4.Validation Operators\n",
    "\n",
    "`Validation Operators` es la forma de validar multiples expectation y definir las acciones que se debe tomar despues de la validacio."
   ]
  },
  {
   "cell_type": "code",
   "execution_count": 7,
   "metadata": {},
   "outputs": [
    {
     "name": "stdout",
     "output_type": "stream",
     "text": [
      "2021-10-22T17:34:33-0300 - INFO - \t11 expectation(s) included in expectation_suite.\n"
     ]
    }
   ],
   "source": [
    "run_id = {\n",
    "  \"run_name\": \"nx_nerdearla\",\n",
    "  \"run_time\": datetime.now(timezone.utc)\n",
    "}\n",
    "\n",
    "results = context.run_validation_operator(\n",
    "    \"action_list_operator\",\n",
    "    assets_to_validate=[batch],\n",
    "    run_id=run_id)"
   ]
  },
  {
   "cell_type": "code",
   "execution_count": 8,
   "metadata": {},
   "outputs": [
    {
     "data": {
      "text/plain": [
       "{'data_asset_count': 1,\n",
       " 'validation_result_count': 1,\n",
       " 'successful_validation_count': 0,\n",
       " 'unsuccessful_validation_count': 1,\n",
       " 'successful_validation_percent': 0.0,\n",
       " 'validation_statistics': {ValidationResultIdentifier::nerdearla/nx_nerdearla/20211022T203433.419915Z/03c4cd754fa1ed9316e6983867383c0b: {'evaluated_expectations': 11,\n",
       "   'successful_expectations': 5,\n",
       "   'unsuccessful_expectations': 6,\n",
       "   'success_percent': 45.45454545454545}}}"
      ]
     },
     "execution_count": 8,
     "metadata": {},
     "output_type": "execute_result"
    }
   ],
   "source": [
    "results.get_statistics()"
   ]
  },
  {
   "cell_type": "markdown",
   "metadata": {},
   "source": [
    "## 5. Vemos el Validation Results en Data Docs\n",
    "\n",
    "Ahora la libreria crea el Data Docs. Este va a incluir **reporte de calidad de datos** formado con el `ValidationResults`"
   ]
  },
  {
   "cell_type": "code",
   "execution_count": 9,
   "metadata": {},
   "outputs": [],
   "source": [
    "context.open_data_docs()"
   ]
  }
 ],
 "metadata": {
  "interpreter": {
   "hash": "31f2aee4e71d21fbe5cf8b01ff0e069b9275f58929596ceb00d14d90e3e16cd6"
  },
  "kernelspec": {
   "display_name": "Python 3 (ipykernel)",
   "language": "python",
   "name": "python3"
  },
  "language_info": {
   "codemirror_mode": {
    "name": "ipython",
    "version": 3
   },
   "file_extension": ".py",
   "mimetype": "text/x-python",
   "name": "python",
   "nbconvert_exporter": "python",
   "pygments_lexer": "ipython3",
   "version": "3.9.7"
  },
  "pycharm": {
   "stem_cell": {
    "cell_type": "raw",
    "metadata": {
     "collapsed": false
    },
    "source": []
   }
  }
 },
 "nbformat": 4,
 "nbformat_minor": 4
}
